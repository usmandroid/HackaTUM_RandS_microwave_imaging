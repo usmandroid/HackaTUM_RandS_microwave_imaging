{
 "cells": [
  {
   "cell_type": "code",
   "execution_count": null,
   "metadata": {},
   "outputs": [],
   "source": []
  }
 ],
 "metadata": {
  "kernelspec": {
   "display_name": "Python 3.9.13 ('tensorflow_ami_py39')",
   "language": "python",
   "name": "python3"
  },
  "language_info": {
   "name": "python",
   "version": "3.9.13"
  },
  "orig_nbformat": 4,
  "vscode": {
   "interpreter": {
    "hash": "8bdfb92471a40896b90f1286af0f9399fd06a48a8530a07370d99273704ebbce"
   }
  }
 },
 "nbformat": 4,
 "nbformat_minor": 2
}
