{
 "cells": [
  {
   "cell_type": "code",
   "execution_count": 2,
   "metadata": {},
   "outputs": [],
   "source": [
    "# Importing Image class from PIL module\n",
    "from PIL import Image\n",
    " # l 250, 68 t, 781, 960 b\n",
    "# Opens a image in RGB mode\n",
    "im = Image.open('data/type1/0/1 copy 4.jpg')\n",
    " \n",
    "# Size of the image in pixels (size of original image)\n",
    "# (This is not mandatory)\n",
    "width, height = im.size\n",
    " \n",
    "# Setting the points for cropped image\n",
    "left = 250\n",
    "top = 68\n",
    "right = 961\n",
    "bottom = 775\n",
    " \n",
    "# Cropped image of above dimension\n",
    "# (It will not change original image)\n",
    "im1 = im.crop((left, top, right, bottom))\n",
    " \n",
    "# Shows the image in image viewer\n",
    "im1.show()"
   ]
  },
  {
   "cell_type": "code",
   "execution_count": 1,
   "metadata": {},
   "outputs": [],
   "source": [
    "from PIL import Image\n",
    "import os.path, sys\n",
    "import glob\n",
    "\n",
    "# Setting the points for cropped image\n",
    "left = 250\n",
    "top = 68\n",
    "right = 961\n",
    "bottom = 775\n",
    " \n",
    " \n",
    "def crop(left, right, top, bottom, path, cropping):\n",
    "    \n",
    "    # dirs = os.listdir(path)\n",
    "    dirs = [f for f in glob.glob(path+'*.jpg')]\n",
    "    print(dirs)\n",
    "    if cropping:\n",
    "        for item in dirs:\n",
    "            fullpath = item #os.path.join(path,item)         #corrected\n",
    "            if os.path.isfile(fullpath):\n",
    "                im = Image.open(fullpath)\n",
    "                f, e = os.path.splitext(fullpath)\n",
    "                imCrop = im.crop((left, top, right, bottom))\n",
    "                # print(f)\n",
    "                imCrop.save(item , 'jpeg', quality=100)\n",
    "    else:\n",
    "        pass\n",
    "\n"
   ]
  },
  {
   "cell_type": "code",
   "execution_count": 33,
   "metadata": {},
   "outputs": [
    {
     "name": "stdout",
     "output_type": "stream",
     "text": [
      "['data/type1/0/1 copy 9.jpg', 'data/type1/0/1 copy 8.jpg', 'data/type1/0/1 copy 12.jpg', 'data/type1/0/1 copy 13.jpg', 'data/type1/0/1 copy 11.jpg', 'data/type1/0/1 copy 10.jpg', 'data/type1/0/1 copy 14.jpg', 'data/type1/0/1 copy.jpg', 'data/type1/0/1 copy 6.jpg', 'data/type1/0/1 copy 7.jpg', 'data/type1/0/1 copy 5.jpg', 'data/type1/0/1 copy 4.jpg', 'data/type1/0/1.jpg', 'data/type1/0/1 copy 3.jpg', 'data/type1/0/1 copy 2.jpg', 'data/type1/1/1 copy 9.jpg', 'data/type1/1/1 copy 8.jpg', 'data/type1/1/1 copy 12.jpg', 'data/type1/1/1 copy 13.jpg', 'data/type1/1/1 copy 11.jpg', 'data/type1/1/1 copy 10.jpg', 'data/type1/1/1 copy 14.jpg', 'data/type1/1/1 copy 15.jpg', 'data/type1/1/1 copy 17.jpg', 'data/type1/1/1 copy 16.jpg', 'data/type1/1/1 copy.jpg', 'data/type1/1/1 copy 18.jpg', 'data/type1/1/1 copy 19.jpg', 'data/type1/1/1 copy 6.jpg', 'data/type1/1/1 copy 7.jpg', 'data/type1/1/1 copy 5.jpg', 'data/type1/1/1 copy 4.jpg', 'data/type1/1/1.jpg', 'data/type1/1/1 copy 3.jpg', 'data/type1/1/1 copy 2.jpg', 'data/type0/0/0 copy 3.jpg', 'data/type0/0/0 copy 2.jpg', 'data/type0/0/0 copy 6.jpg', 'data/type0/0/0 copy 7.jpg', 'data/type0/0/0 copy 5.jpg', 'data/type0/0/0 copy 4.jpg', 'data/type0/0/0 copy 9.jpg', 'data/type0/0/0 copy.jpg', 'data/type0/0/0 copy 8.jpg', 'data/type0/0/0 copy 14.jpg', 'data/type0/0/0 copy 10.jpg', 'data/type0/0/0 copy 11.jpg', 'data/type0/0/0 copy 13.jpg', 'data/type0/0/0 copy 12.jpg', 'data/type0/0/0.jpg', 'data/type0/1/0 copy 19.jpg', 'data/type0/1/0 copy 18.jpg', 'data/type0/1/0 copy 3.jpg', 'data/type0/1/0 copy 2.jpg', 'data/type0/1/0 copy 6.jpg', 'data/type0/1/0 copy 7.jpg', 'data/type0/1/0 copy 5.jpg', 'data/type0/1/0 copy 4.jpg', 'data/type0/1/0 copy 9.jpg', 'data/type0/1/0 copy.jpg', 'data/type0/1/0 copy 8.jpg', 'data/type0/1/0 copy 16.jpg', 'data/type0/1/0 copy 17.jpg', 'data/type0/1/0 copy 15.jpg', 'data/type0/1/0 copy 14.jpg', 'data/type0/1/0 copy 10.jpg', 'data/type0/1/0 copy 11.jpg', 'data/type0/1/0 copy 13.jpg', 'data/type0/1/0 copy 12.jpg', 'data/type0/1/0.jpg', 'data/type5/0/5 copy 5.jpg', 'data/type5/0/5 copy 4.jpg', 'data/type5/0/5 copy 6.jpg', 'data/type5/0/5 copy 7.jpg', 'data/type5/0/5 copy.jpg', 'data/type5/0/5 copy 3.jpg', 'data/type5/0/5 copy 2.jpg', 'data/type5/0/5 copy 9.jpg', 'data/type5/0/5 copy 8.jpg', 'data/type5/0/5 copy 13.jpg', 'data/type5/0/5 copy 12.jpg', 'data/type5/0/5.jpg', 'data/type5/0/5 copy 10.jpg', 'data/type5/0/5 copy 11.jpg', 'data/type5/0/5 copy 14.jpg', 'data/type5/1/5 copy 19.jpg', 'data/type5/1/5 copy 18.jpg', 'data/type5/1/5 copy 5.jpg', 'data/type5/1/5 copy 4.jpg', 'data/type5/1/5 copy 6.jpg', 'data/type5/1/5 copy 7.jpg', 'data/type5/1/5 copy.jpg', 'data/type5/1/5 copy 3.jpg', 'data/type5/1/5 copy 2.jpg', 'data/type5/1/5 copy 9.jpg', 'data/type5/1/5 copy 8.jpg', 'data/type5/1/5 copy 13.jpg', 'data/type5/1/5 copy 12.jpg', 'data/type5/1/5.jpg', 'data/type5/1/5 copy 10.jpg', 'data/type5/1/5 copy 11.jpg', 'data/type5/1/5 copy 15.jpg', 'data/type5/1/5 copy 14.jpg', 'data/type5/1/5 copy 16.jpg', 'data/type5/1/5 copy 17.jpg', 'data/type2/0/2 copy 2.jpg', 'data/type2/0/2 copy 3.jpg', 'data/type2/0/2 copy 14.jpg', 'data/type2/0/2 copy 10.jpg', 'data/type2/0/2 copy 7.jpg', 'data/type2/0/2 copy 6.jpg', 'data/type2/0/2 copy 11.jpg', 'data/type2/0/2 copy 13.jpg', 'data/type2/0/2 copy 4.jpg', 'data/type2/0/2 copy 5.jpg', 'data/type2/0/2 copy.jpg', 'data/type2/0/2 copy 12.jpg', 'data/type2/0/2 copy 8.jpg', 'data/type2/0/2 copy 9.jpg', 'data/type2/0/2.jpg', 'data/type2/1/2 copy 16.jpg', 'data/type2/1/2 copy 17.jpg', 'data/type2/1/2 copy 15.jpg', 'data/type2/1/2 copy 2.jpg', 'data/type2/1/2 copy 3.jpg', 'data/type2/1/2 copy 14.jpg', 'data/type2/1/2 copy 10.jpg', 'data/type2/1/2 copy 7.jpg', 'data/type2/1/2 copy 6.jpg', 'data/type2/1/2 copy 11.jpg', 'data/type2/1/2 copy 13.jpg', 'data/type2/1/2 copy 4.jpg', 'data/type2/1/2 copy 5.jpg', 'data/type2/1/2 copy.jpg', 'data/type2/1/2 copy 12.jpg', 'data/type2/1/2 copy 8.jpg', 'data/type2/1/2 copy 9.jpg', 'data/type2/1/2 copy 19.jpg', 'data/type2/1/2.jpg', 'data/type2/1/2 copy 18.jpg', 'data/type3/0/3 copy.jpg', 'data/type3/0/3 copy 8.jpg', 'data/type3/0/3 copy 9.jpg', 'data/type3/0/3 copy 7.jpg', 'data/type3/0/3 copy 12.jpg', 'data/type3/0/3 copy 13.jpg', 'data/type3/0/3 copy 6.jpg', 'data/type3/0/3 copy 4.jpg', 'data/type3/0/3 copy 11.jpg', 'data/type3/0/3 copy 10.jpg', 'data/type3/0/3 copy 5.jpg', 'data/type3/0/3 copy 14.jpg', 'data/type3/0/3 copy 2.jpg', 'data/type3/0/3 copy 3.jpg', 'data/type3/0/3.jpg', 'data/type3/1/3 copy.jpg', 'data/type3/1/3 copy 18.jpg', 'data/type3/1/3 copy 19.jpg', 'data/type3/1/3 copy 8.jpg', 'data/type3/1/3 copy 9.jpg', 'data/type3/1/3 copy 7.jpg', 'data/type3/1/3 copy 12.jpg', 'data/type3/1/3 copy 13.jpg', 'data/type3/1/3 copy 6.jpg', 'data/type3/1/3 copy 4.jpg', 'data/type3/1/3 copy 11.jpg', 'data/type3/1/3 copy 10.jpg', 'data/type3/1/3 copy 5.jpg', 'data/type3/1/3 copy 14.jpg', 'data/type3/1/3 copy 15.jpg', 'data/type3/1/3 copy 2.jpg', 'data/type3/1/3 copy 17.jpg', 'data/type3/1/3 copy 16.jpg', 'data/type3/1/3 copy 3.jpg', 'data/type3/1/3.jpg', 'data/type4/0/4 copy 9.jpg', 'data/type4/0/4 copy 8.jpg', 'data/type4/0/4 copy 14.jpg', 'data/type4/0/4 copy.jpg', 'data/type4/0/4 copy 11.jpg', 'data/type4/0/4 copy 10.jpg', 'data/type4/0/4 copy 12.jpg', 'data/type4/0/4 copy 13.jpg', 'data/type4/0/4.jpg', 'data/type4/0/4 copy 3.jpg', 'data/type4/0/4 copy 2.jpg', 'data/type4/0/4 copy 5.jpg', 'data/type4/0/4 copy 4.jpg', 'data/type4/0/4 copy 6.jpg', 'data/type4/0/4 copy 7.jpg', 'data/type4/1/4 copy 9.jpg', 'data/type4/1/4 copy 8.jpg', 'data/type4/1/4 copy 17.jpg', 'data/type4/1/4 copy 16.jpg', 'data/type4/1/4 copy 14.jpg', 'data/type4/1/4 copy 15.jpg', 'data/type4/1/4 copy.jpg', 'data/type4/1/4 copy 11.jpg', 'data/type4/1/4 copy 10.jpg', 'data/type4/1/4 copy 12.jpg', 'data/type4/1/4 copy 13.jpg', 'data/type4/1/4 copy 18.jpg', 'data/type4/1/4 copy 19.jpg', 'data/type4/1/4.jpg', 'data/type4/1/4 copy 3.jpg', 'data/type4/1/4 copy 2.jpg', 'data/type4/1/4 copy 5.jpg', 'data/type4/1/4 copy 4.jpg', 'data/type4/1/4 copy 6.jpg', 'data/type4/1/4 copy 7.jpg']\n"
     ]
    }
   ],
   "source": [
    "path = \"data/*/*/\"\n",
    "crop(left, right, top, bottom, path, True)"
   ]
  },
  {
   "cell_type": "code",
   "execution_count": 35,
   "metadata": {},
   "outputs": [
    {
     "data": {
      "text/plain": [
       "'data/*/*/'"
      ]
     },
     "execution_count": 35,
     "metadata": {},
     "output_type": "execute_result"
    }
   ],
   "source": [
    "path"
   ]
  },
  {
   "cell_type": "code",
   "execution_count": 1,
   "metadata": {},
   "outputs": [
    {
     "name": "stdout",
     "output_type": "stream",
     "text": [
      "Init Plugin\n",
      "Init Graph Optimizer\n",
      "Init Kernel\n"
     ]
    }
   ],
   "source": [
    "import matplotlib.pyplot as plt\n",
    "import numpy as np\n",
    "import os\n",
    "import tensorflow as tf"
   ]
  },
  {
   "cell_type": "code",
   "execution_count": null,
   "metadata": {},
   "outputs": [],
   "source": []
  }
 ],
 "metadata": {
  "kernelspec": {
   "display_name": "Python 3.9.13 ('tensorflow_ami_py39')",
   "language": "python",
   "name": "python3"
  },
  "language_info": {
   "codemirror_mode": {
    "name": "ipython",
    "version": 3
   },
   "file_extension": ".py",
   "mimetype": "text/x-python",
   "name": "python",
   "nbconvert_exporter": "python",
   "pygments_lexer": "ipython3",
   "version": "3.9.13"
  },
  "orig_nbformat": 4,
  "vscode": {
   "interpreter": {
    "hash": "8bdfb92471a40896b90f1286af0f9399fd06a48a8530a07370d99273704ebbce"
   }
  }
 },
 "nbformat": 4,
 "nbformat_minor": 2
}
